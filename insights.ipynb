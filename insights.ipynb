{
 "cells": [
  {
   "cell_type": "markdown",
   "id": "d7082443-9a94-4d8b-9542-879a817bf112",
   "metadata": {},
   "source": [
    "# Assignment 1 for Clustering: Target Trial Emulation"
   ]
  },
  {
   "cell_type": "markdown",
   "id": "a3eb2788-a973-4734-a35d-593ccafcdf19",
   "metadata": {},
   "source": [
    "Basilisco, Farah Jane & Bonachita, Clybel Djen"
   ]
  },
  {
   "cell_type": "markdown",
   "id": "80cf4bcd-043c-47eb-b536-6feb76dbeec1",
   "metadata": {},
   "source": [
    "---"
   ]
  },
  {
   "cell_type": "markdown",
   "id": "e92af759-0aa1-4b1b-8ea7-92dbd95d4de8",
   "metadata": {},
   "source": [
    "## What is Target Trial Emulation?"
   ]
  },
  {
   "cell_type": "markdown",
   "id": "887c5e56-5030-4eff-9a58-780f14514b93",
   "metadata": {},
   "source": [
    "Target Trial Emulation (TTE) is a method used in observational studies to estimate causal effects by mimicking a randomized controlled trial (RCT). Since actual RCTs may not always be feasible due to ethical, logistical, or financial constraints, TTE allows researchers to analyze observational data in a way that approximates the conditions of a well-designed trial."
   ]
  },
  {
   "cell_type": "markdown",
   "id": "ad2cbc2d-1dd7-4aa5-97fa-ac01057b7a34",
   "metadata": {},
   "source": [
    "### How does it work?\n",
    "1. #### Define the estimand\n",
    "   - Specify the causal question being addressed (e.g., intention-to-treat (ITT) or      per-protocol (PP)).\n",
    "   - Identify the treatment assignment strategy.\n",
    "2. #### Prepare Observational Data\n",
    "   - Structure the data similarly to an RCT by including necessary variables like        treatment assignment, outcomes, eligibility, and censoring information.\n",
    "3. #### Handle Censoring and Treatment Switching\n",
    "   - Observational data may have informative censoring (e.g., patients drop out due      to health changes) or treatment switching (e.g., patients switching to another      treatment).\n",
    "   - Inverse Probability of Censoring Weights (IPCW) are used to adjust for biases       introduced by these issues.\n",
    "4. #### Expand the Observational Dataset into Trial Sequences\n",
    "   - The data is transformed into a sequence of trials where individuals enter at        different times, ensuring comparisons between treatment groups remain valid.\n",
    "5. #### Fit a Marginal Structural Model (MSM)\n",
    "   - An MSM is used to estimate causal effects while accounting for time-dependent       confounding.\n",
    "6. #### Generate Predictions & Visualizations\n",
    "   - Compute survival probabilities and cumulative incidences under different            treatment scenarios.\n",
    "   - Use plots to compare treatment effects over time."
   ]
  },
  {
   "cell_type": "markdown",
   "id": "7bc5b55e-db2a-44c5-b5b5-eee8b64030c4",
   "metadata": {},
   "source": [
    "# TO BE CONTINUED..."
   ]
  }
 ],
 "metadata": {
  "kernelspec": {
   "display_name": "Python [conda env:base] *",
   "language": "python",
   "name": "conda-base-py"
  },
  "language_info": {
   "codemirror_mode": {
    "name": "ipython",
    "version": 3
   },
   "file_extension": ".py",
   "mimetype": "text/x-python",
   "name": "python",
   "nbconvert_exporter": "python",
   "pygments_lexer": "ipython3",
   "version": "3.12.7"
  }
 },
 "nbformat": 4,
 "nbformat_minor": 5
}
