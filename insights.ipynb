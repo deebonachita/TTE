{
 "cells": [
  {
   "cell_type": "markdown",
   "id": "d7082443-9a94-4d8b-9542-879a817bf112",
   "metadata": {},
   "source": [
    "# Assignment 1 for Clustering"
   ]
  },
  {
   "cell_type": "code",
   "execution_count": null,
   "id": "099e97ec-f362-489f-972a-a8843e3b9ad2",
   "metadata": {},
   "outputs": [],
   "source": []
  }
 ],
 "metadata": {
  "kernelspec": {
   "display_name": "Python [conda env:base] *",
   "language": "python",
   "name": "conda-base-py"
  },
  "language_info": {
   "codemirror_mode": {
    "name": "ipython",
    "version": 3
   },
   "file_extension": ".py",
   "mimetype": "text/x-python",
   "name": "python",
   "nbconvert_exporter": "python",
   "pygments_lexer": "ipython3",
   "version": "3.12.7"
  }
 },
 "nbformat": 4,
 "nbformat_minor": 5
}
